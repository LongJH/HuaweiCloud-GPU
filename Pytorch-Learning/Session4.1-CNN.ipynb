{
 "cells": [
  {
   "cell_type": "code",
   "execution_count": 4,
   "metadata": {},
   "outputs": [
    {
     "name": "stderr",
     "output_type": "stream",
     "text": [
      "Matplotlib is building the font cache; this may take a moment.\n"
     ]
    }
   ],
   "source": [
    "import torch\n",
    "import torch.nn as nn\n",
    "import torch.utils.data as Data\n",
    "import torchvision\n",
    "import matplotlib.pyplot as plt"
   ]
  },
  {
   "cell_type": "code",
   "execution_count": 2,
   "metadata": {},
   "outputs": [],
   "source": [
    "# Hyper Parameters\n",
    "EPOCH = 1\n",
    "BATCH_SIZE = 50\n",
    "LR = 0.001\n",
    "DOWNLOAD_MNIST = False"
   ]
  },
  {
   "cell_type": "code",
   "execution_count": 3,
   "metadata": {},
   "outputs": [
    {
     "name": "stdout",
     "output_type": "stream",
     "text": [
      "Downloading http://yann.lecun.com/exdb/mnist/train-images-idx3-ubyte.gz to ./mnist\\MNIST\\raw\\train-images-idx3-ubyte.gz\n"
     ]
    },
    {
     "name": "stderr",
     "output_type": "stream",
     "text": [
      "100.1%"
     ]
    },
    {
     "name": "stdout",
     "output_type": "stream",
     "text": [
      "Extracting ./mnist\\MNIST\\raw\\train-images-idx3-ubyte.gz to ./mnist\\MNIST\\raw\n",
      "Downloading http://yann.lecun.com/exdb/mnist/train-labels-idx1-ubyte.gz to ./mnist\\MNIST\\raw\\train-labels-idx1-ubyte.gz\n"
     ]
    },
    {
     "name": "stderr",
     "output_type": "stream",
     "text": [
      "113.5%"
     ]
    },
    {
     "name": "stdout",
     "output_type": "stream",
     "text": [
      "Extracting ./mnist\\MNIST\\raw\\train-labels-idx1-ubyte.gz to ./mnist\\MNIST\\raw\n",
      "Downloading http://yann.lecun.com/exdb/mnist/t10k-images-idx3-ubyte.gz to ./mnist\\MNIST\\raw\\t10k-images-idx3-ubyte.gz\n"
     ]
    },
    {
     "name": "stderr",
     "output_type": "stream",
     "text": [
      "100.4%"
     ]
    },
    {
     "name": "stdout",
     "output_type": "stream",
     "text": [
      "Extracting ./mnist\\MNIST\\raw\\t10k-images-idx3-ubyte.gz to ./mnist\\MNIST\\raw\n",
      "Downloading http://yann.lecun.com/exdb/mnist/t10k-labels-idx1-ubyte.gz to ./mnist\\MNIST\\raw\\t10k-labels-idx1-ubyte.gz\n"
     ]
    },
    {
     "name": "stderr",
     "output_type": "stream",
     "text": [
      "180.4%"
     ]
    },
    {
     "name": "stdout",
     "output_type": "stream",
     "text": [
      "Extracting ./mnist\\MNIST\\raw\\t10k-labels-idx1-ubyte.gz to ./mnist\\MNIST\\raw\n",
      "Processing...\n"
     ]
    },
    {
     "name": "stderr",
     "output_type": "stream",
     "text": [
      "D:\\anaconda3\\envs\\dl_env\\lib\\site-packages\\torchvision\\datasets\\mnist.py:469: UserWarning: The given NumPy array is not writeable, and PyTorch does not support non-writeable tensors. This means you can write to the underlying (supposedly non-writeable) NumPy array using the tensor. You may want to copy the array to protect its data or make it writeable before converting it to a tensor. This type of warning will be suppressed for the rest of this program. (Triggered internally at  ..\\torch\\csrc\\utils\\tensor_numpy.cpp:141.)\n",
      "  return torch.from_numpy(parsed.astype(m[2], copy=False)).view(*s)\n"
     ]
    },
    {
     "name": "stdout",
     "output_type": "stream",
     "text": [
      "Done!\n"
     ]
    }
   ],
   "source": [
    "train_data = torchvision.datasets.MNIST(\n",
    "    root='./mnist',\n",
    "    train=True,\n",
    "    transform=torchvision.transforms.ToTensor(),   # (0, 255) 的数据压缩成 [0, 1]\n",
    "    download=DOWNLOAD_MNIST,\n",
    ")\n"
   ]
  },
  {
   "cell_type": "code",
   "execution_count": 14,
   "metadata": {},
   "outputs": [
    {
     "name": "stdout",
     "output_type": "stream",
     "text": [
      "torch.Size([60000, 28, 28])\n",
      "torch.Size([60000])\n"
     ]
    },
    {
     "data": {
      "text/plain": [
       "<function matplotlib.pyplot.show(close=None, block=None)>"
      ]
     },
     "execution_count": 14,
     "metadata": {},
     "output_type": "execute_result"
    },
    {
     "data": {
      "image/png": "[encoded data removed]",
      "text/plain": [
       "<Figure size 432x288 with 1 Axes>"
      ]
     },
     "metadata": {
      "needs_background": "light"
     },
     "output_type": "display_data"
    }
   ],
   "source": [
    "# plot sample data\n",
    "print(train_data.data.size())\n",
    "print(train_data.targets.size())\n",
    "\n",
    "plt.imshow(train_data.data[0].numpy(), cmap='gray')\n",
    "plt.title(f'{train_data.targets[0]}')\n",
    "plt.show"
   ]
  },
  {
   "cell_type": "code",
   "execution_count": 47,
   "metadata": {},
   "outputs": [],
   "source": [
    "# Data Loader for easy mini-batch return in training, the image batch shape will be (50, 1, 28, 28)\n",
    "train_loader = Data.DataLoader(dataset=train_data, batch_size=BATCH_SIZE, shuffle=True)"
   ]
  },
  {
   "cell_type": "code",
   "execution_count": 21,
   "metadata": {},
   "outputs": [],
   "source": [
    "# load test data\n",
    "test_data = torchvision.datasets.MNIST(\n",
    "    root='./mnist',\n",
    "    train=False,\n",
    ")\n",
    "test_x = torch.unsqueeze(test_data.data, dim=1).type(torch.FloatTensor)[:2000]/255\n",
    "test_y = test_data.targets[:2000]"
   ]
  },
  {
   "cell_type": "code",
   "execution_count": 48,
   "metadata": {},
   "outputs": [],
   "source": [
    "class CNN(nn.Module):\n",
    "    def __init__(self):\n",
    "        super(CNN, self).__init__()\n",
    "        self.conv1 = nn.Sequential( # (1, 28, 28)\n",
    "            nn.Conv2d(              \n",
    "                in_channels=1,      # input 高度，如 RGB 图片为 3， 灰度图片 为 1\n",
    "                out_channels=16,    # output 高度，每个窗口生成多少个特征\n",
    "                kernel_size=5,      # 每个窗口（正方形）的边长\n",
    "                stride=1,           # 每次扫描后跳多少像素点\n",
    "                padding=2,          # 外围填充多少圈。若 stride=1, padding=(kernel_size-1)/2, 则 input 和 output 的长宽一致 \n",
    "            ),                      # -> (16, 28, 28)\n",
    "            nn.ReLU(),              # -> (16, 28, 28)\n",
    "            nn.MaxPool2d(kernel_size=2),    # -> (16, 14, 14)\n",
    "        )\n",
    "        self.conv2 = nn.Sequential(       # (16, 14, 14)\n",
    "            nn.Conv2d(16, 32, 5, 1, 2),   # -> (32, 14, 14)\n",
    "            nn.ReLU(),                    # -> (32, 14, 14)\n",
    "            nn.MaxPool2d(2)               # -> (32, 7, 7)\n",
    "        )\n",
    "        self.out = nn.Linear(32 * 7 * 7, 10)\n",
    "\n",
    "    def forward(self, x):             # x : (batch, 1, 28, 28)\n",
    "        x = self.conv1(x)             # -> (batch, 16, 14, 14)\n",
    "        x = self.conv2(x)             # -> (batch, 32, 7, 7)\n",
    "        x = x.view(x.size(0), -1)     # -> (batch, 32 * 7 * 7)\n",
    "        output = self.out(x)\n",
    "        return output\n"
   ]
  },
  {
   "cell_type": "code",
   "execution_count": 49,
   "metadata": {},
   "outputs": [
    {
     "name": "stdout",
     "output_type": "stream",
     "text": [
      "CNN(\n",
      "  (conv1): Sequential(\n",
      "    (0): Conv2d(1, 16, kernel_size=(5, 5), stride=(1, 1), padding=(2, 2))\n",
      "    (1): ReLU()\n",
      "    (2): MaxPool2d(kernel_size=2, stride=2, padding=0, dilation=1, ceil_mode=False)\n",
      "  )\n",
      "  (conv2): Sequential(\n",
      "    (0): Conv2d(16, 32, kernel_size=(5, 5), stride=(1, 1), padding=(2, 2))\n",
      "    (1): ReLU()\n",
      "    (2): MaxPool2d(kernel_size=2, stride=2, padding=0, dilation=1, ceil_mode=False)\n",
      "  )\n",
      "  (out): Linear(in_features=1568, out_features=10, bias=True)\n",
      ")\n"
     ]
    }
   ],
   "source": [
    "cnn = CNN()\n",
    "print(cnn)"
   ]
  },
  {
   "cell_type": "code",
   "execution_count": 50,
   "metadata": {},
   "outputs": [],
   "source": [
    "optimizer = torch.optim.Adam(cnn.parameters(), lr=LR)   # optimize all cnn parameters\n",
    "loss_func = nn.CrossEntropyLoss()                       # the target label is not one-hotted"
   ]
  },
  {
   "cell_type": "code",
   "execution_count": 56,
   "metadata": {},
   "outputs": [
    {
     "name": "stdout",
     "output_type": "stream",
     "text": [
      "Epoch:  0  | Step:  0 | train loss: 2.3184 | test accuracy: 0.14\n",
      "Epoch:  0  | Step:  50 | train loss: 0.2876 | test accuracy: 0.84\n",
      "Epoch:  0  | Step:  100 | train loss: 0.4260 | test accuracy: 0.91\n",
      "Epoch:  0  | Step:  150 | train loss: 0.1727 | test accuracy: 0.93\n",
      "Epoch:  0  | Step:  200 | train loss: 0.1560 | test accuracy: 0.94\n",
      "Epoch:  0  | Step:  250 | train loss: 0.0862 | test accuracy: 0.95\n",
      "Epoch:  0  | Step:  300 | train loss: 0.1266 | test accuracy: 0.95\n",
      "Epoch:  0  | Step:  350 | train loss: 0.1585 | test accuracy: 0.96\n",
      "Epoch:  0  | Step:  400 | train loss: 0.1832 | test accuracy: 0.96\n",
      "Epoch:  0  | Step:  450 | train loss: 0.0597 | test accuracy: 0.96\n",
      "Epoch:  0  | Step:  500 | train loss: 0.1178 | test accuracy: 0.96\n",
      "Epoch:  0  | Step:  550 | train loss: 0.1151 | test accuracy: 0.97\n",
      "Epoch:  0  | Step:  600 | train loss: 0.0314 | test accuracy: 0.97\n",
      "Epoch:  0  | Step:  650 | train loss: 0.1649 | test accuracy: 0.97\n",
      "Epoch:  0  | Step:  700 | train loss: 0.0807 | test accuracy: 0.97\n",
      "Epoch:  0  | Step:  750 | train loss: 0.0260 | test accuracy: 0.97\n",
      "Epoch:  0  | Step:  800 | train loss: 0.0846 | test accuracy: 0.98\n",
      "Epoch:  0  | Step:  850 | train loss: 0.0906 | test accuracy: 0.97\n",
      "Epoch:  0  | Step:  900 | train loss: 0.0215 | test accuracy: 0.97\n",
      "Epoch:  0  | Step:  950 | train loss: 0.0575 | test accuracy: 0.98\n",
      "Epoch:  0  | Step:  1000 | train loss: 0.0891 | test accuracy: 0.98\n",
      "Epoch:  0  | Step:  1050 | train loss: 0.0510 | test accuracy: 0.98\n",
      "Epoch:  0  | Step:  1100 | train loss: 0.0162 | test accuracy: 0.98\n",
      "Epoch:  0  | Step:  1150 | train loss: 0.0155 | test accuracy: 0.97\n"
     ]
    }
   ],
   "source": [
    "# training and testing\n",
    "for epoch in range(EPOCH):\n",
    "    for step, (b_x, b_y) in enumerate(train_loader):\n",
    "        output = cnn(b_x)\n",
    "        loss = loss_func(output, b_y)\n",
    "        optimizer.zero_grad()\n",
    "        loss.backward()\n",
    "        optimizer.step()\n",
    "        \n",
    "        if step % 50 == 0:\n",
    "            test_output = cnn(test_x)\n",
    "            pred_y = torch.max(test_output, 1)[1].data.numpy()\n",
    "            accuracy = float((pred_y == test_y.data.numpy()).astype(int).sum()) / float(test_y.size(0))\n",
    "            print('Epoch: ', epoch, ' | Step: ', step, '| train loss: %.4f' % loss.data.numpy(), '| test accuracy: %.2f' % accuracy)\n"
   ]
  },
  {
   "cell_type": "code",
   "execution_count": 57,
   "metadata": {},
   "outputs": [
    {
     "name": "stdout",
     "output_type": "stream",
     "text": [
      "[7 2 1 0 4 1 4 9 5 9]  prediction number\n",
      "[7 2 1 0 4 1 4 9 5 9]  real number\n"
     ]
    }
   ],
   "source": [
    "test_output = cnn(test_x[:10])\n",
    "pred_y = torch.max(test_output, 1)[1].data.numpy()\n",
    "print(pred_y, ' prediction number')\n",
    "print(test_y[:10].numpy(), ' real number')"
   ]
  },
  {
   "cell_type": "code",
   "execution_count": null,
   "metadata": {},
   "outputs": [],
   "source": []
  }
 ],
 "metadata": {
  "kernelspec": {
   "display_name": "dl_env(py3.8)",
   "language": "python",
   "name": "dl_env"
  },
  "language_info": {
   "codemirror_mode": {
    "name": "ipython",
    "version": 3
   },
   "file_extension": ".py",
   "mimetype": "text/x-python",
   "name": "python",
   "nbconvert_exporter": "python",
   "pygments_lexer": "ipython3",
   "version": "3.8.5"
  }
 },
 "nbformat": 4,
 "nbformat_minor": 4
}
