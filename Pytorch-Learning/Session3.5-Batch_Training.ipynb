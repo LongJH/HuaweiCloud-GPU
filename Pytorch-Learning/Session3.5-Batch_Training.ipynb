{
 "cells": [
  {
   "cell_type": "code",
   "execution_count": 2,
   "metadata": {},
   "outputs": [],
   "source": [
    "import torch\n",
    "import torch.utils.data as Data\n",
    "# from torch.autograd import Variable\n",
    "# import torch.nn.functional as F\n",
    "import matplotlib.pyplot as plt"
   ]
  },
  {
   "cell_type": "code",
   "execution_count": 3,
   "metadata": {},
   "outputs": [],
   "source": [
    "BATCH_SIZE = 5"
   ]
  },
  {
   "cell_type": "code",
   "execution_count": 4,
   "metadata": {},
   "outputs": [
    {
     "name": "stdout",
     "output_type": "stream",
     "text": [
      "tensor([ 1.,  2.,  3.,  4.,  5.,  6.,  7.,  8.,  9., 10.])\n",
      "tensor([10.,  9.,  8.,  7.,  6.,  5.,  4.,  3.,  2.,  1.])\n"
     ]
    }
   ],
   "source": [
    "x = torch.linspace(1, 10, 10)\n",
    "y = torch.linspace(10, 1, 10)\n",
    "\n",
    "print(x)\n",
    "print(y)"
   ]
  },
  {
   "cell_type": "code",
   "execution_count": 12,
   "metadata": {},
   "outputs": [
    {
     "name": "stdout",
     "output_type": "stream",
     "text": [
      "Epoch: 0 | Step: 0 | batch x: tensor([9., 8., 3., 4., 2.]) | batch y: tensor([2., 3., 8., 7., 9.])\n",
      "Epoch: 0 | Step: 1 | batch x: tensor([ 5.,  6.,  1.,  7., 10.]) | batch y: tensor([ 6.,  5., 10.,  4.,  1.])\n",
      "Epoch: 1 | Step: 0 | batch x: tensor([6., 4., 7., 3., 2.]) | batch y: tensor([5., 7., 4., 8., 9.])\n",
      "Epoch: 1 | Step: 1 | batch x: tensor([10.,  5.,  9.,  1.,  8.]) | batch y: tensor([ 1.,  6.,  2., 10.,  3.])\n",
      "Epoch: 2 | Step: 0 | batch x: tensor([3., 6., 5., 2., 1.]) | batch y: tensor([ 8.,  5.,  6.,  9., 10.])\n",
      "Epoch: 2 | Step: 1 | batch x: tensor([ 4.,  7., 10.,  9.,  8.]) | batch y: tensor([7., 4., 1., 2., 3.])\n"
     ]
    }
   ],
   "source": [
    "torch_dataset = Data.TensorDataset(x, y)  # 定义整个 dataset\n",
    "loader = Data.DataLoader(\n",
    "    dataset=torch_dataset,\n",
    "    batch_size=BATCH_SIZE,\n",
    "    shuffle=True,  # 打乱\n",
    "    num_workers=2,  # 多线程\n",
    ")\n",
    "\n",
    "for epoch in range(3):\n",
    "    for step, (batch_x, batch_y) in enumerate(loader):\n",
    "        # training...\n",
    "        print(f'Epoch: {epoch} | Step: {step} | batch x: {batch_x} | batch y: {batch_y}')"
   ]
  },
  {
   "cell_type": "code",
   "execution_count": null,
   "metadata": {},
   "outputs": [],
   "source": []
  }
 ],
 "metadata": {
  "kernelspec": {
   "display_name": "dl_env(py3.8)",
   "language": "python",
   "name": "dl_env"
  },
  "language_info": {
   "codemirror_mode": {
    "name": "ipython",
    "version": 3
   },
   "file_extension": ".py",
   "mimetype": "text/x-python",
   "name": "python",
   "nbconvert_exporter": "python",
   "pygments_lexer": "ipython3",
   "version": "3.8.5"
  }
 },
 "nbformat": 4,
 "nbformat_minor": 4
}
