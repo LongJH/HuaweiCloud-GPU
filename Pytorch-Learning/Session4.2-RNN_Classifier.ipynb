{
 "cells": [
  {
   "cell_type": "code",
   "execution_count": 2,
   "metadata": {},
   "outputs": [],
   "source": [
    "import torch\n",
    "import torch.nn as nn\n",
    "import torch.utils.data as Data\n",
    "import torchvision.datasets as dsets\n",
    "import torchvision.transforms as transforms\n",
    "import matplotlib.pyplot as plt"
   ]
  },
  {
   "cell_type": "code",
   "execution_count": 3,
   "metadata": {},
   "outputs": [],
   "source": [
    "# Hyper Parameters\n",
    "EPOCH = 1\n",
    "BATCH_SIZE = 64\n",
    "TIME_STEP = 28        # rnn time step / image height\n",
    "INPUT_SIZE = 28       # rnn input size / image width\n",
    "LR = 0.001\n",
    "DOWNLOAD_MNIST = False"
   ]
  },
  {
   "cell_type": "code",
   "execution_count": 4,
   "metadata": {},
   "outputs": [],
   "source": [
    "train_data = dsets.MNIST(\n",
    "    root='./mnist', \n",
    "    train=True, \n",
    "    transform=transforms.ToTensor(),\n",
    "    download=DOWNLOAD_MNIST,\n",
    ")"
   ]
  },
  {
   "cell_type": "code",
   "execution_count": 6,
   "metadata": {},
   "outputs": [],
   "source": [
    "train_loader = Data.DataLoader(dataset=train_data, batch_size=BATCH_SIZE, shuffle=True)"
   ]
  },
  {
   "cell_type": "code",
   "execution_count": 8,
   "metadata": {},
   "outputs": [],
   "source": [
    "# load test data\n",
    "test_data = dsets.MNIST(\n",
    "    root='./mnist',\n",
    "    train=False,\n",
    ")\n",
    "test_x = torch.unsqueeze(test_data.data, dim=1).type(torch.FloatTensor)[:2000]/255\n",
    "test_y = test_data.targets[:2000]"
   ]
  },
  {
   "cell_type": "code",
   "execution_count": 9,
   "metadata": {},
   "outputs": [
    {
     "name": "stdout",
     "output_type": "stream",
     "text": [
      "RNN(\n",
      "  (rnn): LSTM(28, 64, batch_first=True)\n",
      "  (out): Linear(in_features=64, out_features=10, bias=True)\n",
      ")\n"
     ]
    }
   ],
   "source": [
    "class RNN(nn.Module):\n",
    "    def __init__(self):\n",
    "        super(RNN, self).__init__()\n",
    "        \n",
    "        self.rnn = nn.LSTM(\n",
    "            input_size=INPUT_SIZE,\n",
    "            hidden_size=64,\n",
    "            num_layers=1,\n",
    "            batch_first=True,   # True: (batch, time_step, input)\n",
    "                                # False: (time_step, batch, input)\n",
    "        )\n",
    "        self.out = nn.Linear(64, 10)\n",
    "        \n",
    "    def forward(self, x):\n",
    "        r_out, (h_n, h_c) = self.rnn(x, None)   # x: (batch, time_step, input)\n",
    "        output = self.out(r_out[:, -1, : ])\n",
    "        return output\n",
    "    \n",
    "rnn = RNN()\n",
    "print(rnn)"
   ]
  },
  {
   "cell_type": "code",
   "execution_count": 11,
   "metadata": {},
   "outputs": [],
   "source": [
    "optimizer = torch.optim.Adam(rnn.parameters(), lr=LR)\n",
    "loss_func = nn.CrossEntropyLoss()                       # the target label is not one-hotted"
   ]
  },
  {
   "cell_type": "code",
   "execution_count": 13,
   "metadata": {},
   "outputs": [
    {
     "name": "stdout",
     "output_type": "stream",
     "text": [
      "Epoch:  0  | Step:  0 | train loss: 2.3100 | test accuracy: 0.09\n",
      "Epoch:  0  | Step:  50 | train loss: 2.0892 | test accuracy: 0.31\n",
      "Epoch:  0  | Step:  100 | train loss: 1.3039 | test accuracy: 0.56\n",
      "Epoch:  0  | Step:  150 | train loss: 0.7972 | test accuracy: 0.70\n",
      "Epoch:  0  | Step:  200 | train loss: 0.6543 | test accuracy: 0.73\n",
      "Epoch:  0  | Step:  250 | train loss: 0.5907 | test accuracy: 0.77\n",
      "Epoch:  0  | Step:  300 | train loss: 0.5729 | test accuracy: 0.81\n",
      "Epoch:  0  | Step:  350 | train loss: 0.3639 | test accuracy: 0.84\n",
      "Epoch:  0  | Step:  400 | train loss: 0.6499 | test accuracy: 0.84\n",
      "Epoch:  0  | Step:  450 | train loss: 0.3576 | test accuracy: 0.86\n",
      "Epoch:  0  | Step:  500 | train loss: 0.4404 | test accuracy: 0.87\n",
      "Epoch:  0  | Step:  550 | train loss: 0.5649 | test accuracy: 0.88\n",
      "Epoch:  0  | Step:  600 | train loss: 0.2122 | test accuracy: 0.89\n",
      "Epoch:  0  | Step:  650 | train loss: 0.4332 | test accuracy: 0.89\n",
      "Epoch:  0  | Step:  700 | train loss: 0.4372 | test accuracy: 0.91\n",
      "Epoch:  0  | Step:  750 | train loss: 0.2820 | test accuracy: 0.91\n",
      "Epoch:  0  | Step:  800 | train loss: 0.2023 | test accuracy: 0.90\n",
      "Epoch:  0  | Step:  850 | train loss: 0.2308 | test accuracy: 0.90\n",
      "Epoch:  0  | Step:  900 | train loss: 0.2437 | test accuracy: 0.91\n"
     ]
    }
   ],
   "source": [
    "# training and testing\n",
    "for epoch in range(EPOCH):\n",
    "    for step, (b_x, b_y) in enumerate(train_loader):\n",
    "        b_x = b_x.view(-1, 28, 28)            # reshape x to (batch, time_step, input)\n",
    "        \n",
    "        output = rnn(b_x)\n",
    "        loss = loss_func(output, b_y)\n",
    "        optimizer.zero_grad()\n",
    "        loss.backward()\n",
    "        optimizer.step()\n",
    "        \n",
    "        if step % 50 == 0:\n",
    "            test_output = rnn(test_x.view(-1, 28, 28))\n",
    "            pred_y = torch.max(test_output, 1)[1].data.numpy()\n",
    "            accuracy = float((pred_y == test_y.data.numpy()).astype(int).sum()) / float(test_y.size(0))\n",
    "            print('Epoch: ', epoch, ' | Step: ', step, '| train loss: %.4f' % loss.data.numpy(), '| test accuracy: %.2f' % accuracy)\n"
   ]
  },
  {
   "cell_type": "code",
   "execution_count": 15,
   "metadata": {},
   "outputs": [
    {
     "name": "stdout",
     "output_type": "stream",
     "text": [
      "[7 2 1 0 4 1 4 9 6 4]  prediction number\n",
      "[7 2 1 0 4 1 4 9 5 9]  real number\n"
     ]
    }
   ],
   "source": [
    "test_output = rnn(test_x.view(-1, 28, 28)[:10])\n",
    "pred_y = torch.max(test_output, 1)[1].data.numpy()\n",
    "print(pred_y, ' prediction number')\n",
    "print(test_y[:10].numpy(), ' real number')"
   ]
  },
  {
   "cell_type": "code",
   "execution_count": null,
   "metadata": {},
   "outputs": [],
   "source": []
  }
 ],
 "metadata": {
  "kernelspec": {
   "display_name": "dl_env(py3.8)",
   "language": "python",
   "name": "dl_env"
  },
  "language_info": {
   "codemirror_mode": {
    "name": "ipython",
    "version": 3
   },
   "file_extension": ".py",
   "mimetype": "text/x-python",
   "name": "python",
   "nbconvert_exporter": "python",
   "pygments_lexer": "ipython3",
   "version": "3.8.5"
  }
 },
 "nbformat": 4,
 "nbformat_minor": 4
}
